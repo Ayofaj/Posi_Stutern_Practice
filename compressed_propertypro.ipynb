{
 "metadata": {
  "language_info": {
   "codemirror_mode": {
    "name": "ipython",
    "version": 3
   },
   "file_extension": ".py",
   "mimetype": "text/x-python",
   "name": "python",
   "nbconvert_exporter": "python",
   "pygments_lexer": "ipython3",
   "version": "3.9.0-final"
  },
  "orig_nbformat": 2,
  "kernelspec": {
   "name": "python3",
   "display_name": "Python 3.9.0 64-bit",
   "metadata": {
    "interpreter": {
     "hash": "57c954ec3de407110b045864121580508f7e4a8598d712077389189fc709a535"
    }
   }
  }
 },
 "nbformat": 4,
 "nbformat_minor": 2,
 "cells": [
  {
   "cell_type": "code",
   "execution_count": 262,
   "metadata": {},
   "outputs": [],
   "source": [
    "import pandas as pd \n",
    "import requests\n",
    "from bs4 import BeautifulSoup\n",
    "import numpy as np\n"
   ]
  },
  {
   "cell_type": "code",
   "execution_count": 263,
   "metadata": {},
   "outputs": [],
   "source": [
    "url= 'https://www.finelib.com/cities/lagos/areas-and-suburbs'\n",
    "headers= {'User-Agent': 'Mozilla/5.0 (Windows NT 10.0; Win64; x64) AppleWebKit/537.36 (KHTML, like Gecko) Chrome/86.0.4240.111 Safari/537.36'}"
   ]
  },
  {
   "cell_type": "code",
   "execution_count": 264,
   "metadata": {},
   "outputs": [
    {
     "output_type": "execute_result",
     "data": {
      "text/plain": [
       "200"
      ]
     },
     "metadata": {},
     "execution_count": 264
    }
   ],
   "source": [
    "r = requests.get(url, headers=headers)\n",
    "r.status_code"
   ]
  },
  {
   "cell_type": "code",
   "execution_count": 265,
   "metadata": {},
   "outputs": [],
   "source": [
    "area = BeautifulSoup(r.text, 'html.parser')"
   ]
  },
  {
   "cell_type": "code",
   "execution_count": 266,
   "metadata": {},
   "outputs": [],
   "source": [
    "names = area.select('a[href^=\"/cities/lagos/areas-and-suburbs/\"]')\n"
   ]
  },
  {
   "source": [
    "areas=[]\n",
    "for name in names:\n",
    "    areas.append(name.get_text(strip=True))\n",
    "print(areas)"
   ],
   "cell_type": "code",
   "metadata": {},
   "execution_count": 267,
   "outputs": [
    {
     "output_type": "stream",
     "name": "stdout",
     "text": [
      "['Abule', 'Adeniyi Jones', 'Agege', 'Agidingbi', 'Aguda', 'Ajah', 'Ajegunle', 'Ajeromi-Ifelodun', 'Akerele', 'Akoka', 'Alaba', 'Alagomeji', 'Alausa', 'Alimosho', 'Amuwo Odofin', 'Anthony Village', 'Apapa', 'Badagry', 'Bariga', 'Coker', 'Dolphin Estate', 'Dopemu', 'Ebute Metta', 'Epe', 'Eti-Osa', 'Festac Town', 'Gbagada', 'Idumota', 'Ifako - Ijaiye', 'Ijesha', 'Ijora', 'Ikeja', 'Ikorodu', 'Ikoyi', 'Ilasamaja', 'Ilupeju', 'Iwaya', 'Iyana Ipaja', 'Jibowu', 'Ketu', 'Kosofe', 'Ladipo', 'Lagos Island', 'Lagos Mainland', 'Lawanson', 'Lekki', 'Marina', 'Maryland', 'Masha', 'Maza Maza', 'Mende', 'Mile 2', 'Mushin', 'Obalende', 'Obanikoro', 'Ogba', 'Ogudu', 'Ojo', 'Ojodu', 'Ojodu Berger', 'Ojota', 'Ojuelegba', 'Olodi', 'Onigbongbo', 'Onipanu', 'Oniru', 'Opebi', 'Oregun', 'Oshodi - Isolo', 'Palmgrove', 'Papa Ajao', 'Sabo', 'Satellite Town', 'Shomolu', 'Surulere', 'Takwa Bay', 'Tinubu Square', 'Victoria Garden City', 'Victoria Island', 'Yaba']\n"
     ]
    }
   ]
  },
  {
   "cell_type": "code",
   "execution_count": 268,
   "metadata": {},
   "outputs": [
    {
     "output_type": "execute_result",
     "data": {
      "text/plain": [
       "3"
      ]
     },
     "metadata": {},
     "execution_count": 268
    }
   ],
   "source": [
    "len(area)"
   ]
  },
  {
   "cell_type": "code",
   "execution_count": 269,
   "metadata": {},
   "outputs": [],
   "source": [
    "pro = pd.read_csv('./propertypro_lagos_rent.csv')"
   ]
  },
  {
   "cell_type": "code",
   "execution_count": 270,
   "metadata": {},
   "outputs": [],
   "source": [
    "pro.drop(pro[pro.price == '6,500,000/year'].index, inplace=True)"
   ]
  },
  {
   "cell_type": "code",
   "execution_count": 271,
   "metadata": {},
   "outputs": [
    {
     "output_type": "execute_result",
     "data": {
      "text/plain": [
       "   Unnamed: 0                                              title  \\\n",
       "0           1                2 BEDROOM FLAT / APARTMENT FOR RENT   \n",
       "1           2                3 BEDROOM FLAT / APARTMENT FOR RENT   \n",
       "2           3           5 BEDROOM DETACHED DUPLEX HOUSE FOR RENT   \n",
       "3           4           4 BEDROOM DETACHED DUPLEX HOUSE FOR RENT   \n",
       "4           5  5 BEDROOM OFFICE SPACE COMMERCIAL PROPERTY FOR...   \n",
       "\n",
       "                                    address  \\\n",
       "0                      Mende Maryland Lagos   \n",
       "1  Ajao estate IsoloAjao Estate Isolo Lagos   \n",
       "2                       Chevron Lekki Lagos   \n",
       "3                  Osapa London Lekki Lagos   \n",
       "4    off coker roadCoker Road Ilupeju Lagos   \n",
       "\n",
       "                               date_added     bed     bath     toilet  \\\n",
       "0                       Added 19 Nov 2020  2 beds  2 baths  2 Toilets   \n",
       "1                       Added 19 Nov 2020  3 beds  3 baths  4 Toilets   \n",
       "2  Updated 19 Nov 2020, Added 05 Nov 2020  5 beds  5 baths  6 Toilets   \n",
       "3  Updated 19 Nov 2020, Added 13 Nov 2020  4 beds  4 baths  5 Toilets   \n",
       "4                       Added 18 Nov 2020  5 beds  5 baths  7 Toilets   \n",
       "\n",
       "       price  \n",
       "0  1,000,000  \n",
       "1  1,500,000  \n",
       "2  4,000,000  \n",
       "3  3,500,000  \n",
       "4  5,000,000  "
      ],
      "text/html": "<div>\n<style scoped>\n    .dataframe tbody tr th:only-of-type {\n        vertical-align: middle;\n    }\n\n    .dataframe tbody tr th {\n        vertical-align: top;\n    }\n\n    .dataframe thead th {\n        text-align: right;\n    }\n</style>\n<table border=\"1\" class=\"dataframe\">\n  <thead>\n    <tr style=\"text-align: right;\">\n      <th></th>\n      <th>Unnamed: 0</th>\n      <th>title</th>\n      <th>address</th>\n      <th>date_added</th>\n      <th>bed</th>\n      <th>bath</th>\n      <th>toilet</th>\n      <th>price</th>\n    </tr>\n  </thead>\n  <tbody>\n    <tr>\n      <th>0</th>\n      <td>1</td>\n      <td>2 BEDROOM FLAT / APARTMENT FOR RENT</td>\n      <td>Mende Maryland Lagos</td>\n      <td>Added 19 Nov 2020</td>\n      <td>2 beds</td>\n      <td>2 baths</td>\n      <td>2 Toilets</td>\n      <td>1,000,000</td>\n    </tr>\n    <tr>\n      <th>1</th>\n      <td>2</td>\n      <td>3 BEDROOM FLAT / APARTMENT FOR RENT</td>\n      <td>Ajao estate IsoloAjao Estate Isolo Lagos</td>\n      <td>Added 19 Nov 2020</td>\n      <td>3 beds</td>\n      <td>3 baths</td>\n      <td>4 Toilets</td>\n      <td>1,500,000</td>\n    </tr>\n    <tr>\n      <th>2</th>\n      <td>3</td>\n      <td>5 BEDROOM DETACHED DUPLEX HOUSE FOR RENT</td>\n      <td>Chevron Lekki Lagos</td>\n      <td>Updated 19 Nov 2020, Added 05 Nov 2020</td>\n      <td>5 beds</td>\n      <td>5 baths</td>\n      <td>6 Toilets</td>\n      <td>4,000,000</td>\n    </tr>\n    <tr>\n      <th>3</th>\n      <td>4</td>\n      <td>4 BEDROOM DETACHED DUPLEX HOUSE FOR RENT</td>\n      <td>Osapa London Lekki Lagos</td>\n      <td>Updated 19 Nov 2020, Added 13 Nov 2020</td>\n      <td>4 beds</td>\n      <td>4 baths</td>\n      <td>5 Toilets</td>\n      <td>3,500,000</td>\n    </tr>\n    <tr>\n      <th>4</th>\n      <td>5</td>\n      <td>5 BEDROOM OFFICE SPACE COMMERCIAL PROPERTY FOR...</td>\n      <td>off coker roadCoker Road Ilupeju Lagos</td>\n      <td>Added 18 Nov 2020</td>\n      <td>5 beds</td>\n      <td>5 baths</td>\n      <td>7 Toilets</td>\n      <td>5,000,000</td>\n    </tr>\n  </tbody>\n</table>\n</div>"
     },
     "metadata": {},
     "execution_count": 271
    }
   ],
   "source": [
    "pro.head()"
   ]
  },
  {
   "cell_type": "code",
   "execution_count": 272,
   "metadata": {},
   "outputs": [],
   "source": [
    "pro.price = pro.price.str.replace(',', '')"
   ]
  },
  {
   "cell_type": "code",
   "execution_count": 273,
   "metadata": {},
   "outputs": [
    {
     "output_type": "execute_result",
     "data": {
      "text/plain": [
       "   Unnamed: 0                                              title  \\\n",
       "0           1                2 BEDROOM FLAT / APARTMENT FOR RENT   \n",
       "1           2                3 BEDROOM FLAT / APARTMENT FOR RENT   \n",
       "2           3           5 BEDROOM DETACHED DUPLEX HOUSE FOR RENT   \n",
       "3           4           4 BEDROOM DETACHED DUPLEX HOUSE FOR RENT   \n",
       "4           5  5 BEDROOM OFFICE SPACE COMMERCIAL PROPERTY FOR...   \n",
       "\n",
       "                                    address  \\\n",
       "0                      Mende Maryland Lagos   \n",
       "1  Ajao estate IsoloAjao Estate Isolo Lagos   \n",
       "2                       Chevron Lekki Lagos   \n",
       "3                  Osapa London Lekki Lagos   \n",
       "4    off coker roadCoker Road Ilupeju Lagos   \n",
       "\n",
       "                               date_added     bed     bath     toilet    price  \n",
       "0                       Added 19 Nov 2020  2 beds  2 baths  2 Toilets  1000000  \n",
       "1                       Added 19 Nov 2020  3 beds  3 baths  4 Toilets  1500000  \n",
       "2  Updated 19 Nov 2020, Added 05 Nov 2020  5 beds  5 baths  6 Toilets  4000000  \n",
       "3  Updated 19 Nov 2020, Added 13 Nov 2020  4 beds  4 baths  5 Toilets  3500000  \n",
       "4                       Added 18 Nov 2020  5 beds  5 baths  7 Toilets  5000000  "
      ],
      "text/html": "<div>\n<style scoped>\n    .dataframe tbody tr th:only-of-type {\n        vertical-align: middle;\n    }\n\n    .dataframe tbody tr th {\n        vertical-align: top;\n    }\n\n    .dataframe thead th {\n        text-align: right;\n    }\n</style>\n<table border=\"1\" class=\"dataframe\">\n  <thead>\n    <tr style=\"text-align: right;\">\n      <th></th>\n      <th>Unnamed: 0</th>\n      <th>title</th>\n      <th>address</th>\n      <th>date_added</th>\n      <th>bed</th>\n      <th>bath</th>\n      <th>toilet</th>\n      <th>price</th>\n    </tr>\n  </thead>\n  <tbody>\n    <tr>\n      <th>0</th>\n      <td>1</td>\n      <td>2 BEDROOM FLAT / APARTMENT FOR RENT</td>\n      <td>Mende Maryland Lagos</td>\n      <td>Added 19 Nov 2020</td>\n      <td>2 beds</td>\n      <td>2 baths</td>\n      <td>2 Toilets</td>\n      <td>1000000</td>\n    </tr>\n    <tr>\n      <th>1</th>\n      <td>2</td>\n      <td>3 BEDROOM FLAT / APARTMENT FOR RENT</td>\n      <td>Ajao estate IsoloAjao Estate Isolo Lagos</td>\n      <td>Added 19 Nov 2020</td>\n      <td>3 beds</td>\n      <td>3 baths</td>\n      <td>4 Toilets</td>\n      <td>1500000</td>\n    </tr>\n    <tr>\n      <th>2</th>\n      <td>3</td>\n      <td>5 BEDROOM DETACHED DUPLEX HOUSE FOR RENT</td>\n      <td>Chevron Lekki Lagos</td>\n      <td>Updated 19 Nov 2020, Added 05 Nov 2020</td>\n      <td>5 beds</td>\n      <td>5 baths</td>\n      <td>6 Toilets</td>\n      <td>4000000</td>\n    </tr>\n    <tr>\n      <th>3</th>\n      <td>4</td>\n      <td>4 BEDROOM DETACHED DUPLEX HOUSE FOR RENT</td>\n      <td>Osapa London Lekki Lagos</td>\n      <td>Updated 19 Nov 2020, Added 13 Nov 2020</td>\n      <td>4 beds</td>\n      <td>4 baths</td>\n      <td>5 Toilets</td>\n      <td>3500000</td>\n    </tr>\n    <tr>\n      <th>4</th>\n      <td>5</td>\n      <td>5 BEDROOM OFFICE SPACE COMMERCIAL PROPERTY FOR...</td>\n      <td>off coker roadCoker Road Ilupeju Lagos</td>\n      <td>Added 18 Nov 2020</td>\n      <td>5 beds</td>\n      <td>5 baths</td>\n      <td>7 Toilets</td>\n      <td>5000000</td>\n    </tr>\n  </tbody>\n</table>\n</div>"
     },
     "metadata": {},
     "execution_count": 273
    }
   ],
   "source": [
    "pro.head()"
   ]
  },
  {
   "cell_type": "code",
   "execution_count": 274,
   "metadata": {},
   "outputs": [
    {
     "output_type": "stream",
     "name": "stdout",
     "text": [
      "<class 'pandas.core.frame.DataFrame'>\nInt64Index: 1050 entries, 0 to 1098\nData columns (total 8 columns):\n #   Column      Non-Null Count  Dtype \n---  ------      --------------  ----- \n 0   Unnamed: 0  1050 non-null   int64 \n 1   title       1050 non-null   object\n 2   address     1050 non-null   object\n 3   date_added  1050 non-null   object\n 4   bed         1050 non-null   object\n 5   bath        1050 non-null   object\n 6   toilet      1050 non-null   object\n 7   price       1050 non-null   object\ndtypes: int64(1), object(7)\nmemory usage: 73.8+ KB\n"
     ]
    }
   ],
   "source": [
    "pro.info()"
   ]
  },
  {
   "cell_type": "code",
   "execution_count": 275,
   "metadata": {},
   "outputs": [],
   "source": [
    "pro.price =pro['price'].astype(int)"
   ]
  },
  {
   "cell_type": "code",
   "execution_count": 276,
   "metadata": {},
   "outputs": [
    {
     "output_type": "execute_result",
     "data": {
      "text/plain": [
       "   Unnamed: 0                                              title  \\\n",
       "0           1                2 BEDROOM FLAT / APARTMENT FOR RENT   \n",
       "1           2                3 BEDROOM FLAT / APARTMENT FOR RENT   \n",
       "2           3           5 BEDROOM DETACHED DUPLEX HOUSE FOR RENT   \n",
       "3           4           4 BEDROOM DETACHED DUPLEX HOUSE FOR RENT   \n",
       "4           5  5 BEDROOM OFFICE SPACE COMMERCIAL PROPERTY FOR...   \n",
       "\n",
       "                                    address  \\\n",
       "0                      Mende Maryland Lagos   \n",
       "1  Ajao estate IsoloAjao Estate Isolo Lagos   \n",
       "2                       Chevron Lekki Lagos   \n",
       "3                  Osapa London Lekki Lagos   \n",
       "4    off coker roadCoker Road Ilupeju Lagos   \n",
       "\n",
       "                               date_added     bed     bath     toilet    price  \n",
       "0                       Added 19 Nov 2020  2 beds  2 baths  2 Toilets  1000000  \n",
       "1                       Added 19 Nov 2020  3 beds  3 baths  4 Toilets  1500000  \n",
       "2  Updated 19 Nov 2020, Added 05 Nov 2020  5 beds  5 baths  6 Toilets  4000000  \n",
       "3  Updated 19 Nov 2020, Added 13 Nov 2020  4 beds  4 baths  5 Toilets  3500000  \n",
       "4                       Added 18 Nov 2020  5 beds  5 baths  7 Toilets  5000000  "
      ],
      "text/html": "<div>\n<style scoped>\n    .dataframe tbody tr th:only-of-type {\n        vertical-align: middle;\n    }\n\n    .dataframe tbody tr th {\n        vertical-align: top;\n    }\n\n    .dataframe thead th {\n        text-align: right;\n    }\n</style>\n<table border=\"1\" class=\"dataframe\">\n  <thead>\n    <tr style=\"text-align: right;\">\n      <th></th>\n      <th>Unnamed: 0</th>\n      <th>title</th>\n      <th>address</th>\n      <th>date_added</th>\n      <th>bed</th>\n      <th>bath</th>\n      <th>toilet</th>\n      <th>price</th>\n    </tr>\n  </thead>\n  <tbody>\n    <tr>\n      <th>0</th>\n      <td>1</td>\n      <td>2 BEDROOM FLAT / APARTMENT FOR RENT</td>\n      <td>Mende Maryland Lagos</td>\n      <td>Added 19 Nov 2020</td>\n      <td>2 beds</td>\n      <td>2 baths</td>\n      <td>2 Toilets</td>\n      <td>1000000</td>\n    </tr>\n    <tr>\n      <th>1</th>\n      <td>2</td>\n      <td>3 BEDROOM FLAT / APARTMENT FOR RENT</td>\n      <td>Ajao estate IsoloAjao Estate Isolo Lagos</td>\n      <td>Added 19 Nov 2020</td>\n      <td>3 beds</td>\n      <td>3 baths</td>\n      <td>4 Toilets</td>\n      <td>1500000</td>\n    </tr>\n    <tr>\n      <th>2</th>\n      <td>3</td>\n      <td>5 BEDROOM DETACHED DUPLEX HOUSE FOR RENT</td>\n      <td>Chevron Lekki Lagos</td>\n      <td>Updated 19 Nov 2020, Added 05 Nov 2020</td>\n      <td>5 beds</td>\n      <td>5 baths</td>\n      <td>6 Toilets</td>\n      <td>4000000</td>\n    </tr>\n    <tr>\n      <th>3</th>\n      <td>4</td>\n      <td>4 BEDROOM DETACHED DUPLEX HOUSE FOR RENT</td>\n      <td>Osapa London Lekki Lagos</td>\n      <td>Updated 19 Nov 2020, Added 13 Nov 2020</td>\n      <td>4 beds</td>\n      <td>4 baths</td>\n      <td>5 Toilets</td>\n      <td>3500000</td>\n    </tr>\n    <tr>\n      <th>4</th>\n      <td>5</td>\n      <td>5 BEDROOM OFFICE SPACE COMMERCIAL PROPERTY FOR...</td>\n      <td>off coker roadCoker Road Ilupeju Lagos</td>\n      <td>Added 18 Nov 2020</td>\n      <td>5 beds</td>\n      <td>5 baths</td>\n      <td>7 Toilets</td>\n      <td>5000000</td>\n    </tr>\n  </tbody>\n</table>\n</div>"
     },
     "metadata": {},
     "execution_count": 276
    }
   ],
   "source": [
    "pro.head()"
   ]
  },
  {
   "cell_type": "code",
   "execution_count": 235,
   "metadata": {},
   "outputs": [
    {
     "output_type": "execute_result",
     "data": {
      "text/plain": [
       "count    9.000000e+00\n",
       "mean     3.823333e+07\n",
       "std      2.569903e+07\n",
       "min      5.000000e+05\n",
       "25%      3.300000e+07\n",
       "50%      4.500000e+07\n",
       "75%      4.500000e+07\n",
       "max      8.500000e+07\n",
       "Name: price, dtype: float64"
      ]
     },
     "metadata": {},
     "execution_count": 235
    }
   ],
   "source": [
    "pro0= pro[pro['address'].str.contains(area[0])]\n",
    "pro0.price.describe( )"
   ]
  },
  {
   "cell_type": "code",
   "execution_count": 277,
   "metadata": {},
   "outputs": [],
   "source": [
    "pro.drop(pro[pro.price == 500].index, inplace=True)"
   ]
  },
  {
   "cell_type": "code",
   "execution_count": 278,
   "metadata": {},
   "outputs": [
    {
     "output_type": "execute_result",
     "data": {
      "text/plain": [
       "     Unnamed: 0                         title                       address  \\\n",
       "833         834  COMMERCIAL PROPERTY FOR RENT  ALAUSA CBDAlausa Ikeja Lagos   \n",
       "\n",
       "                                 date_added   bed   bath     toilet  price  \n",
       "833  Updated 17 Nov 2020, Added 08 Sep 2020  beds  baths  4 Toilets  20000  "
      ],
      "text/html": "<div>\n<style scoped>\n    .dataframe tbody tr th:only-of-type {\n        vertical-align: middle;\n    }\n\n    .dataframe tbody tr th {\n        vertical-align: top;\n    }\n\n    .dataframe thead th {\n        text-align: right;\n    }\n</style>\n<table border=\"1\" class=\"dataframe\">\n  <thead>\n    <tr style=\"text-align: right;\">\n      <th></th>\n      <th>Unnamed: 0</th>\n      <th>title</th>\n      <th>address</th>\n      <th>date_added</th>\n      <th>bed</th>\n      <th>bath</th>\n      <th>toilet</th>\n      <th>price</th>\n    </tr>\n  </thead>\n  <tbody>\n    <tr>\n      <th>833</th>\n      <td>834</td>\n      <td>COMMERCIAL PROPERTY FOR RENT</td>\n      <td>ALAUSA CBDAlausa Ikeja Lagos</td>\n      <td>Updated 17 Nov 2020, Added 08 Sep 2020</td>\n      <td>beds</td>\n      <td>baths</td>\n      <td>4 Toilets</td>\n      <td>20000</td>\n    </tr>\n  </tbody>\n</table>\n</div>"
     },
     "metadata": {},
     "execution_count": 278
    }
   ],
   "source": [
    "pro[pro.price == 20000]"
   ]
  },
  {
   "cell_type": "code",
   "execution_count": 281,
   "metadata": {},
   "outputs": [
    {
     "output_type": "execute_result",
     "data": {
      "text/plain": [
       "count    9.000000e+00\n",
       "mean     3.823333e+07\n",
       "std      2.569903e+07\n",
       "min      5.000000e+05\n",
       "25%      3.300000e+07\n",
       "50%      4.500000e+07\n",
       "75%      4.500000e+07\n",
       "max      8.500000e+07\n",
       "Name: price, dtype: float64"
      ]
     },
     "metadata": {},
     "execution_count": 281
    }
   ],
   "source": [
    "pro0= pro[pro['address'].str.contains(areas[0])]\n",
    "pro0.price.describe()"
   ]
  },
  {
   "cell_type": "code",
   "execution_count": 297,
   "metadata": {},
   "outputs": [
    {
     "output_type": "stream",
     "name": "stdout",
     "text": [
      "500000 85000000\n85000000\n"
     ]
    }
   ],
   "source": [
    "print(pro[pro['address'].str.contains(areas[0])].price.min() , pro[pro['address'].str.contains(areas[0])].price.max())\n",
    "print(pro[pro['address'].str.contains(areas[0])].price.max())"
   ]
  },
  {
   "cell_type": "code",
   "execution_count": 324,
   "metadata": {},
   "outputs": [],
   "source": [
    "\n",
    "def areas_min_max(areas):\n",
    "    r = requests.get(url, headers=headers)\n",
    "    area = BeautifulSoup(r.text, 'html.parser')\n",
    "\n",
    "    names = area.select('a[href^=\"/cities/lagos/areas-and-suburbs/\"]')\n",
    "    areas=[]\n",
    "    for name in names:\n",
    "        areas.append(name.get_text(strip=True))\n",
    "    return areas \n",
    "\n",
    "\n",
    "area =areas[0:80]\n",
    "area_min, area_max=[], []\n",
    "for i in range(0,80):\n",
    "    min = pro[pro['address'].str.contains(areas[i])].price.min()\n",
    "    max = pro[pro['address'].str.contains(areas[i])].price.max()\n",
    "    area_min.append(min), area_max.append(max)\n",
    "\n",
    "area, areas_min, areas_max = [], [], []\n",
    "for area in area_min, area_max:\n",
    "    area = areas\n",
    "    areas_min = area_min\n",
    "    areas_max = area_max\n",
    "\n"
   ]
  },
  {
   "cell_type": "code",
   "execution_count": 328,
   "metadata": {},
   "outputs": [
    {
     "output_type": "execute_result",
     "data": {
      "text/plain": [
       "'Yaba'"
      ]
     },
     "metadata": {},
     "execution_count": 328
    }
   ],
   "source": [
    "area[79]"
   ]
  },
  {
   "cell_type": "code",
   "execution_count": 329,
   "metadata": {},
   "outputs": [],
   "source": [
    "compressed_list = pd.DataFrame({'area': area,\n",
    "                                 'lowest_price': areas_min,\n",
    "                                 'highest_price': area_max})\n",
    "\n",
    "compressed_list.to_csv('price_range_by_areas.csv')"
   ]
  },
  {
   "cell_type": "code",
   "execution_count": 373,
   "metadata": {},
   "outputs": [],
   "source": [
    "prices = pd.read_csv('./price_range_by_areas.csv')"
   ]
  },
  {
   "cell_type": "code",
   "execution_count": 374,
   "metadata": {},
   "outputs": [
    {
     "output_type": "stream",
     "name": "stdout",
     "text": [
      "<class 'pandas.core.frame.DataFrame'>\nRangeIndex: 80 entries, 0 to 79\nData columns (total 4 columns):\n #   Column         Non-Null Count  Dtype  \n---  ------         --------------  -----  \n 0   Unnamed: 0     80 non-null     int64  \n 1   area           80 non-null     object \n 2   lowest_price   49 non-null     float64\n 3   highest_price  49 non-null     float64\ndtypes: float64(2), int64(1), object(1)\nmemory usage: 2.6+ KB\n"
     ]
    }
   ],
   "source": [
    "prices.info()"
   ]
  },
  {
   "cell_type": "code",
   "execution_count": 375,
   "metadata": {},
   "outputs": [
    {
     "output_type": "execute_result",
     "data": {
      "text/plain": [
       "    Unnamed: 0                  area  lowest_price  highest_price\n",
       "0            0                 Abule      500000.0     85000000.0\n",
       "1            1         Adeniyi Jones     2000000.0     20000000.0\n",
       "2            2                 Agege      700000.0       700000.0\n",
       "3            3             Agidingbi           NaN            NaN\n",
       "4            4                 Aguda     1000000.0      1500000.0\n",
       "..         ...                   ...           ...            ...\n",
       "75          75             Takwa Bay           NaN            NaN\n",
       "76          76         Tinubu Square           NaN            NaN\n",
       "77          77  Victoria Garden City           NaN            NaN\n",
       "78          78       Victoria Island       25000.0     45000000.0\n",
       "79          79                  Yaba      150000.0     45000000.0\n",
       "\n",
       "[80 rows x 4 columns]"
      ],
      "text/html": "<div>\n<style scoped>\n    .dataframe tbody tr th:only-of-type {\n        vertical-align: middle;\n    }\n\n    .dataframe tbody tr th {\n        vertical-align: top;\n    }\n\n    .dataframe thead th {\n        text-align: right;\n    }\n</style>\n<table border=\"1\" class=\"dataframe\">\n  <thead>\n    <tr style=\"text-align: right;\">\n      <th></th>\n      <th>Unnamed: 0</th>\n      <th>area</th>\n      <th>lowest_price</th>\n      <th>highest_price</th>\n    </tr>\n  </thead>\n  <tbody>\n    <tr>\n      <th>0</th>\n      <td>0</td>\n      <td>Abule</td>\n      <td>500000.0</td>\n      <td>85000000.0</td>\n    </tr>\n    <tr>\n      <th>1</th>\n      <td>1</td>\n      <td>Adeniyi Jones</td>\n      <td>2000000.0</td>\n      <td>20000000.0</td>\n    </tr>\n    <tr>\n      <th>2</th>\n      <td>2</td>\n      <td>Agege</td>\n      <td>700000.0</td>\n      <td>700000.0</td>\n    </tr>\n    <tr>\n      <th>3</th>\n      <td>3</td>\n      <td>Agidingbi</td>\n      <td>NaN</td>\n      <td>NaN</td>\n    </tr>\n    <tr>\n      <th>4</th>\n      <td>4</td>\n      <td>Aguda</td>\n      <td>1000000.0</td>\n      <td>1500000.0</td>\n    </tr>\n    <tr>\n      <th>...</th>\n      <td>...</td>\n      <td>...</td>\n      <td>...</td>\n      <td>...</td>\n    </tr>\n    <tr>\n      <th>75</th>\n      <td>75</td>\n      <td>Takwa Bay</td>\n      <td>NaN</td>\n      <td>NaN</td>\n    </tr>\n    <tr>\n      <th>76</th>\n      <td>76</td>\n      <td>Tinubu Square</td>\n      <td>NaN</td>\n      <td>NaN</td>\n    </tr>\n    <tr>\n      <th>77</th>\n      <td>77</td>\n      <td>Victoria Garden City</td>\n      <td>NaN</td>\n      <td>NaN</td>\n    </tr>\n    <tr>\n      <th>78</th>\n      <td>78</td>\n      <td>Victoria Island</td>\n      <td>25000.0</td>\n      <td>45000000.0</td>\n    </tr>\n    <tr>\n      <th>79</th>\n      <td>79</td>\n      <td>Yaba</td>\n      <td>150000.0</td>\n      <td>45000000.0</td>\n    </tr>\n  </tbody>\n</table>\n<p>80 rows × 4 columns</p>\n</div>"
     },
     "metadata": {},
     "execution_count": 375
    }
   ],
   "source": [
    "prices"
   ]
  },
  {
   "cell_type": "code",
   "execution_count": 376,
   "metadata": {},
   "outputs": [],
   "source": [
    "prices.dropna(axis= 0, how='any', inplace=True)"
   ]
  },
  {
   "cell_type": "code",
   "execution_count": 377,
   "metadata": {},
   "outputs": [
    {
     "output_type": "execute_result",
     "data": {
      "text/plain": [
       "Index(['Unnamed: 0', 'area', 'lowest_price', 'highest_price'], dtype='object')"
      ]
     },
     "metadata": {},
     "execution_count": 377
    }
   ],
   "source": [
    "prices.columns"
   ]
  },
  {
   "cell_type": "code",
   "execution_count": 378,
   "metadata": {},
   "outputs": [],
   "source": [
    "prices.drop(labels=['Unnamed: 0'], axis= 1, inplace=True)"
   ]
  },
  {
   "cell_type": "code",
   "execution_count": 379,
   "metadata": {},
   "outputs": [
    {
     "output_type": "execute_result",
     "data": {
      "text/plain": [
       "             area  lowest_price  highest_price\n",
       "0           Abule      500000.0     85000000.0\n",
       "1   Adeniyi Jones     2000000.0     20000000.0\n",
       "2           Agege      700000.0       700000.0\n",
       "4           Aguda     1000000.0      1500000.0\n",
       "5            Ajah      250000.0     60000000.0\n",
       "9           Akoka      500000.0      1500000.0\n",
       "11      Alagomeji      150000.0       300000.0\n",
       "12         Alausa       20000.0        20000.0\n",
       "13       Alimosho      220000.0       220000.0\n",
       "14   Amuwo Odofin      500000.0      1300000.0"
      ],
      "text/html": "<div>\n<style scoped>\n    .dataframe tbody tr th:only-of-type {\n        vertical-align: middle;\n    }\n\n    .dataframe tbody tr th {\n        vertical-align: top;\n    }\n\n    .dataframe thead th {\n        text-align: right;\n    }\n</style>\n<table border=\"1\" class=\"dataframe\">\n  <thead>\n    <tr style=\"text-align: right;\">\n      <th></th>\n      <th>area</th>\n      <th>lowest_price</th>\n      <th>highest_price</th>\n    </tr>\n  </thead>\n  <tbody>\n    <tr>\n      <th>0</th>\n      <td>Abule</td>\n      <td>500000.0</td>\n      <td>85000000.0</td>\n    </tr>\n    <tr>\n      <th>1</th>\n      <td>Adeniyi Jones</td>\n      <td>2000000.0</td>\n      <td>20000000.0</td>\n    </tr>\n    <tr>\n      <th>2</th>\n      <td>Agege</td>\n      <td>700000.0</td>\n      <td>700000.0</td>\n    </tr>\n    <tr>\n      <th>4</th>\n      <td>Aguda</td>\n      <td>1000000.0</td>\n      <td>1500000.0</td>\n    </tr>\n    <tr>\n      <th>5</th>\n      <td>Ajah</td>\n      <td>250000.0</td>\n      <td>60000000.0</td>\n    </tr>\n    <tr>\n      <th>9</th>\n      <td>Akoka</td>\n      <td>500000.0</td>\n      <td>1500000.0</td>\n    </tr>\n    <tr>\n      <th>11</th>\n      <td>Alagomeji</td>\n      <td>150000.0</td>\n      <td>300000.0</td>\n    </tr>\n    <tr>\n      <th>12</th>\n      <td>Alausa</td>\n      <td>20000.0</td>\n      <td>20000.0</td>\n    </tr>\n    <tr>\n      <th>13</th>\n      <td>Alimosho</td>\n      <td>220000.0</td>\n      <td>220000.0</td>\n    </tr>\n    <tr>\n      <th>14</th>\n      <td>Amuwo Odofin</td>\n      <td>500000.0</td>\n      <td>1300000.0</td>\n    </tr>\n  </tbody>\n</table>\n</div>"
     },
     "metadata": {},
     "execution_count": 379
    }
   ],
   "source": [
    "prices.head(10)"
   ]
  },
  {
   "cell_type": "code",
   "execution_count": 381,
   "metadata": {},
   "outputs": [],
   "source": [
    "prices.reset_index(inplace=True)"
   ]
  },
  {
   "cell_type": "code",
   "execution_count": 385,
   "metadata": {},
   "outputs": [],
   "source": [
    "prices.drop(labels=['index'], axis=1, inplace=True)"
   ]
  },
  {
   "cell_type": "code",
   "execution_count": 386,
   "metadata": {},
   "outputs": [
    {
     "output_type": "execute_result",
     "data": {
      "text/plain": [
       "               area  lowest_price  highest_price\n",
       "0             Abule      500000.0     85000000.0\n",
       "1     Adeniyi Jones     2000000.0     20000000.0\n",
       "2             Agege      700000.0       700000.0\n",
       "3             Aguda     1000000.0      1500000.0\n",
       "4              Ajah      250000.0     60000000.0\n",
       "5             Akoka      500000.0      1500000.0\n",
       "6         Alagomeji      150000.0       300000.0\n",
       "7            Alausa       20000.0        20000.0\n",
       "8          Alimosho      220000.0       220000.0\n",
       "9      Amuwo Odofin      500000.0      1300000.0\n",
       "10  Anthony Village       40000.0     80000000.0\n",
       "11           Bariga      300000.0       300000.0\n",
       "12            Coker     5000000.0      5000000.0\n",
       "13   Dolphin Estate     7000000.0      7000000.0\n",
       "14           Dopemu      700000.0       700000.0\n",
       "15      Ebute Metta     1300000.0      1300000.0\n",
       "16              Epe      800000.0       800000.0\n",
       "17          Gbagada      450000.0     65000000.0\n",
       "18           Ijesha      600000.0       600000.0\n",
       "19            Ikeja       20000.0    150000000.0\n",
       "20          Ikorodu       35000.0     43000000.0\n",
       "21            Ikoyi       40000.0    310000000.0\n",
       "22          Ilupeju     5000000.0      5000000.0\n",
       "23            Iwaya     1500000.0      1500000.0\n",
       "24      Iyana Ipaja      350000.0       350000.0\n",
       "25             Ketu      750000.0       750000.0\n",
       "26           Kosofe      600000.0      5000000.0\n",
       "27           Ladipo     2200000.0     67500000.0\n",
       "28   Lagos Mainland      120000.0     15000000.0\n",
       "29         Lawanson      450000.0       750000.0\n",
       "30            Lekki       50000.0    320000000.0\n",
       "31         Maryland       35000.0     80000000.0\n",
       "32            Mende      650000.0      1500000.0\n",
       "33           Mushin      800000.0     67500000.0\n",
       "34             Ogba      120000.0      1000000.0\n",
       "35            Ogudu      450000.0      3200000.0\n",
       "36              Ojo      650000.0      6500000.0\n",
       "37            Ojodu      900000.0      6500000.0\n",
       "38            Ojota      650000.0       650000.0\n",
       "39        Ojuelegba     1000000.0      1300000.0\n",
       "40          Onipanu      400000.0       400000.0\n",
       "41            Oniru     1200000.0     24000000.0\n",
       "42           Oregun     2500000.0     67500000.0\n",
       "43             Sabo      500000.0      4000000.0\n",
       "44   Satellite Town      500000.0       500000.0\n",
       "45          Shomolu      300000.0      2700000.0\n",
       "46         Surulere      450000.0     67000000.0\n",
       "47  Victoria Island       25000.0     45000000.0\n",
       "48             Yaba      150000.0     45000000.0"
      ],
      "text/html": "<div>\n<style scoped>\n    .dataframe tbody tr th:only-of-type {\n        vertical-align: middle;\n    }\n\n    .dataframe tbody tr th {\n        vertical-align: top;\n    }\n\n    .dataframe thead th {\n        text-align: right;\n    }\n</style>\n<table border=\"1\" class=\"dataframe\">\n  <thead>\n    <tr style=\"text-align: right;\">\n      <th></th>\n      <th>area</th>\n      <th>lowest_price</th>\n      <th>highest_price</th>\n    </tr>\n  </thead>\n  <tbody>\n    <tr>\n      <th>0</th>\n      <td>Abule</td>\n      <td>500000.0</td>\n      <td>85000000.0</td>\n    </tr>\n    <tr>\n      <th>1</th>\n      <td>Adeniyi Jones</td>\n      <td>2000000.0</td>\n      <td>20000000.0</td>\n    </tr>\n    <tr>\n      <th>2</th>\n      <td>Agege</td>\n      <td>700000.0</td>\n      <td>700000.0</td>\n    </tr>\n    <tr>\n      <th>3</th>\n      <td>Aguda</td>\n      <td>1000000.0</td>\n      <td>1500000.0</td>\n    </tr>\n    <tr>\n      <th>4</th>\n      <td>Ajah</td>\n      <td>250000.0</td>\n      <td>60000000.0</td>\n    </tr>\n    <tr>\n      <th>5</th>\n      <td>Akoka</td>\n      <td>500000.0</td>\n      <td>1500000.0</td>\n    </tr>\n    <tr>\n      <th>6</th>\n      <td>Alagomeji</td>\n      <td>150000.0</td>\n      <td>300000.0</td>\n    </tr>\n    <tr>\n      <th>7</th>\n      <td>Alausa</td>\n      <td>20000.0</td>\n      <td>20000.0</td>\n    </tr>\n    <tr>\n      <th>8</th>\n      <td>Alimosho</td>\n      <td>220000.0</td>\n      <td>220000.0</td>\n    </tr>\n    <tr>\n      <th>9</th>\n      <td>Amuwo Odofin</td>\n      <td>500000.0</td>\n      <td>1300000.0</td>\n    </tr>\n    <tr>\n      <th>10</th>\n      <td>Anthony Village</td>\n      <td>40000.0</td>\n      <td>80000000.0</td>\n    </tr>\n    <tr>\n      <th>11</th>\n      <td>Bariga</td>\n      <td>300000.0</td>\n      <td>300000.0</td>\n    </tr>\n    <tr>\n      <th>12</th>\n      <td>Coker</td>\n      <td>5000000.0</td>\n      <td>5000000.0</td>\n    </tr>\n    <tr>\n      <th>13</th>\n      <td>Dolphin Estate</td>\n      <td>7000000.0</td>\n      <td>7000000.0</td>\n    </tr>\n    <tr>\n      <th>14</th>\n      <td>Dopemu</td>\n      <td>700000.0</td>\n      <td>700000.0</td>\n    </tr>\n    <tr>\n      <th>15</th>\n      <td>Ebute Metta</td>\n      <td>1300000.0</td>\n      <td>1300000.0</td>\n    </tr>\n    <tr>\n      <th>16</th>\n      <td>Epe</td>\n      <td>800000.0</td>\n      <td>800000.0</td>\n    </tr>\n    <tr>\n      <th>17</th>\n      <td>Gbagada</td>\n      <td>450000.0</td>\n      <td>65000000.0</td>\n    </tr>\n    <tr>\n      <th>18</th>\n      <td>Ijesha</td>\n      <td>600000.0</td>\n      <td>600000.0</td>\n    </tr>\n    <tr>\n      <th>19</th>\n      <td>Ikeja</td>\n      <td>20000.0</td>\n      <td>150000000.0</td>\n    </tr>\n    <tr>\n      <th>20</th>\n      <td>Ikorodu</td>\n      <td>35000.0</td>\n      <td>43000000.0</td>\n    </tr>\n    <tr>\n      <th>21</th>\n      <td>Ikoyi</td>\n      <td>40000.0</td>\n      <td>310000000.0</td>\n    </tr>\n    <tr>\n      <th>22</th>\n      <td>Ilupeju</td>\n      <td>5000000.0</td>\n      <td>5000000.0</td>\n    </tr>\n    <tr>\n      <th>23</th>\n      <td>Iwaya</td>\n      <td>1500000.0</td>\n      <td>1500000.0</td>\n    </tr>\n    <tr>\n      <th>24</th>\n      <td>Iyana Ipaja</td>\n      <td>350000.0</td>\n      <td>350000.0</td>\n    </tr>\n    <tr>\n      <th>25</th>\n      <td>Ketu</td>\n      <td>750000.0</td>\n      <td>750000.0</td>\n    </tr>\n    <tr>\n      <th>26</th>\n      <td>Kosofe</td>\n      <td>600000.0</td>\n      <td>5000000.0</td>\n    </tr>\n    <tr>\n      <th>27</th>\n      <td>Ladipo</td>\n      <td>2200000.0</td>\n      <td>67500000.0</td>\n    </tr>\n    <tr>\n      <th>28</th>\n      <td>Lagos Mainland</td>\n      <td>120000.0</td>\n      <td>15000000.0</td>\n    </tr>\n    <tr>\n      <th>29</th>\n      <td>Lawanson</td>\n      <td>450000.0</td>\n      <td>750000.0</td>\n    </tr>\n    <tr>\n      <th>30</th>\n      <td>Lekki</td>\n      <td>50000.0</td>\n      <td>320000000.0</td>\n    </tr>\n    <tr>\n      <th>31</th>\n      <td>Maryland</td>\n      <td>35000.0</td>\n      <td>80000000.0</td>\n    </tr>\n    <tr>\n      <th>32</th>\n      <td>Mende</td>\n      <td>650000.0</td>\n      <td>1500000.0</td>\n    </tr>\n    <tr>\n      <th>33</th>\n      <td>Mushin</td>\n      <td>800000.0</td>\n      <td>67500000.0</td>\n    </tr>\n    <tr>\n      <th>34</th>\n      <td>Ogba</td>\n      <td>120000.0</td>\n      <td>1000000.0</td>\n    </tr>\n    <tr>\n      <th>35</th>\n      <td>Ogudu</td>\n      <td>450000.0</td>\n      <td>3200000.0</td>\n    </tr>\n    <tr>\n      <th>36</th>\n      <td>Ojo</td>\n      <td>650000.0</td>\n      <td>6500000.0</td>\n    </tr>\n    <tr>\n      <th>37</th>\n      <td>Ojodu</td>\n      <td>900000.0</td>\n      <td>6500000.0</td>\n    </tr>\n    <tr>\n      <th>38</th>\n      <td>Ojota</td>\n      <td>650000.0</td>\n      <td>650000.0</td>\n    </tr>\n    <tr>\n      <th>39</th>\n      <td>Ojuelegba</td>\n      <td>1000000.0</td>\n      <td>1300000.0</td>\n    </tr>\n    <tr>\n      <th>40</th>\n      <td>Onipanu</td>\n      <td>400000.0</td>\n      <td>400000.0</td>\n    </tr>\n    <tr>\n      <th>41</th>\n      <td>Oniru</td>\n      <td>1200000.0</td>\n      <td>24000000.0</td>\n    </tr>\n    <tr>\n      <th>42</th>\n      <td>Oregun</td>\n      <td>2500000.0</td>\n      <td>67500000.0</td>\n    </tr>\n    <tr>\n      <th>43</th>\n      <td>Sabo</td>\n      <td>500000.0</td>\n      <td>4000000.0</td>\n    </tr>\n    <tr>\n      <th>44</th>\n      <td>Satellite Town</td>\n      <td>500000.0</td>\n      <td>500000.0</td>\n    </tr>\n    <tr>\n      <th>45</th>\n      <td>Shomolu</td>\n      <td>300000.0</td>\n      <td>2700000.0</td>\n    </tr>\n    <tr>\n      <th>46</th>\n      <td>Surulere</td>\n      <td>450000.0</td>\n      <td>67000000.0</td>\n    </tr>\n    <tr>\n      <th>47</th>\n      <td>Victoria Island</td>\n      <td>25000.0</td>\n      <td>45000000.0</td>\n    </tr>\n    <tr>\n      <th>48</th>\n      <td>Yaba</td>\n      <td>150000.0</td>\n      <td>45000000.0</td>\n    </tr>\n  </tbody>\n</table>\n</div>"
     },
     "metadata": {},
     "execution_count": 386
    }
   ],
   "source": [
    "prices"
   ]
  },
  {
   "cell_type": "code",
   "execution_count": 387,
   "metadata": {},
   "outputs": [],
   "source": [
    "prices.to_csv('new_price_range_by_areas.csv')"
   ]
  },
  {
   "cell_type": "code",
   "execution_count": null,
   "metadata": {},
   "outputs": [],
   "source": []
  }
 ]
}