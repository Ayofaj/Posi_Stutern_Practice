{
 "metadata": {
  "language_info": {
   "codemirror_mode": {
    "name": "ipython",
    "version": 3
   },
   "file_extension": ".py",
   "mimetype": "text/x-python",
   "name": "python",
   "nbconvert_exporter": "python",
   "pygments_lexer": "ipython3",
   "version": "3.9.0-final"
  },
  "orig_nbformat": 2,
  "kernelspec": {
   "name": "python3",
   "display_name": "Python 3.9.0 64-bit",
   "metadata": {
    "interpreter": {
     "hash": "57c954ec3de407110b045864121580508f7e4a8598d712077389189fc709a535"
    }
   }
  }
 },
 "nbformat": 4,
 "nbformat_minor": 2,
 "cells": [
  {
   "cell_type": "code",
   "execution_count": 1,
   "metadata": {},
   "outputs": [],
   "source": [
    "#importing required libraries\n",
    "import pandas as pd \n",
    "import requests\n",
    "from bs4 import BeautifulSoup\n",
    "import numpy as np"
   ]
  },
  {
   "cell_type": "code",
   "execution_count": 2,
   "metadata": {},
   "outputs": [
    {
     "output_type": "execute_result",
     "data": {
      "text/plain": [
       "200"
      ]
     },
     "metadata": {},
     "execution_count": 2
    }
   ],
   "source": [
    "# defining of web url needed for scraping local government areas in Lagos\n",
    "url= 'https://www.finelib.com/cities/lagos/areas-and-suburbs'\n",
    "headers= {'User-Agent': 'Mozilla/5.0 (Windows NT 10.0; Win64; x64) AppleWebKit/537.36 (KHTML, like Gecko) Chrome/86.0.4240.111 Safari/537.36'}\n",
    "r = requests.get(url, headers=headers)\n",
    "r.status_code"
   ]
  },
  {
   "cell_type": "code",
   "execution_count": 3,
   "metadata": {},
   "outputs": [],
   "source": [
    "area = BeautifulSoup(r.text, 'html.parser')"
   ]
  },
  {
   "cell_type": "code",
   "execution_count": 4,
   "metadata": {},
   "outputs": [
    {
     "output_type": "stream",
     "name": "stdout",
     "text": [
      "The length is 80 areas\n"
     ]
    }
   ],
   "source": [
    "#extracting Areas data and converting to an array\n",
    "names = area.select('a[href^=\"/cities/lagos/areas-and-suburbs/\"]')\n",
    "areas=[]\n",
    "for name in names:\n",
    "    areas.append(name.get_text(strip=True))\n",
    "\n",
    "print(f'The length is {len(areas)} areas')"
   ]
  },
  {
   "cell_type": "code",
   "execution_count": 5,
   "metadata": {},
   "outputs": [],
   "source": [
    "#importing propertypro dataframe\n",
    "pro = pd.read_csv('./propertypro_lagos_rent.csv')"
   ]
  },
  {
   "cell_type": "code",
   "execution_count": 6,
   "metadata": {},
   "outputs": [],
   "source": [
    "#removing commas in price figures in other to convert to integers from string\n",
    "pro.price = pro.price.str.replace(',', '')"
   ]
  },
  {
   "cell_type": "code",
   "execution_count": 83,
   "metadata": {},
   "outputs": [],
   "source": [
    "#deleting rows with prices of 6,500,000/ year, because they are promoted data for properties in Abuja\n",
    "#deleting rows with prices of 500 because they are outliers and perceived to be in accurate\n",
    "pro.drop(pro[pro.price == '6500000/year'].index, inplace=True)\n",
    "pro.drop(pro[pro.price == '500'].index, inplace=True)\n",
    "pro.drop(pro[pro['title'].str.contains('SALE')].index, inplace =True)"
   ]
  },
  {
   "cell_type": "code",
   "execution_count": 84,
   "metadata": {},
   "outputs": [],
   "source": [
    "#changing price column to integers\n",
    "pro.price =pro['price'].astype(int)"
   ]
  },
  {
   "cell_type": "code",
   "execution_count": 85,
   "metadata": {},
   "outputs": [
    {
     "output_type": "stream",
     "name": "stdout",
     "text": [
      "<class 'pandas.core.frame.DataFrame'>\nInt64Index: 1001 entries, 0 to 1098\nData columns (total 10 columns):\n #   Column      Non-Null Count  Dtype \n---  ------      --------------  ----- \n 0   Unnamed: 0  1001 non-null   int64 \n 1   title       1001 non-null   object\n 2   address     1001 non-null   object\n 3   date_added  1001 non-null   object\n 4   bed         1001 non-null   object\n 5   bath        1001 non-null   object\n 6   toilet      1001 non-null   object\n 7   price       1001 non-null   int32 \n 8   type        1001 non-null   object\n 9   area        1001 non-null   object\ndtypes: int32(1), int64(1), object(8)\nmemory usage: 82.1+ KB\n"
     ]
    }
   ],
   "source": [
    "pro.info()"
   ]
  },
  {
   "cell_type": "code",
   "execution_count": 86,
   "metadata": {},
   "outputs": [
    {
     "output_type": "execute_result",
     "data": {
      "text/plain": [
       "17"
      ]
     },
     "metadata": {},
     "execution_count": 86
    }
   ],
   "source": [
    "#creating an array of property types to be added as new a column with areas array\n",
    "property_type=['SHOP','OFFICE SPACES','FLAT / APARTMENT','LANDS','SEMI DETACHED BUNGALOW','SEMI DETACHED DUPLEX','CO-WORKING SPACE','DETACHED BUNGALOW','DETACHED DUPLEX','WAREHOUSE','SHOP IN A MALL','SELF CONTAIN','MINI FLATS','HOUSES','TERRACED BUNGALOW','TERRACED DUPLEX','COMMERCIAL PROPERTIES']\n",
    "len(property_type)"
   ]
  },
  {
   "cell_type": "code",
   "execution_count": 87,
   "metadata": {},
   "outputs": [],
   "source": [
    "condition_type = [(pro['title'].str.contains(property_type[0])==True),\n",
    "                    (pro['title'].str.contains(property_type[1])==True),\n",
    "                    (pro['title'].str.contains(property_type[2])==True),\n",
    "                    (pro['title'].str.contains(property_type[3])==True),\n",
    "                    (pro['title'].str.contains(property_type[4])==True),\n",
    "                    (pro['title'].str.contains(property_type[5])==True),\n",
    "                    (pro['title'].str.contains(property_type[6])==True),\n",
    "                    (pro['title'].str.contains(property_type[7])==True),\n",
    "                    (pro['title'].str.contains(property_type[8])==True),\n",
    "                    (pro['title'].str.contains(property_type[9])==True),\n",
    "                    (pro['title'].str.contains(property_type[10])==True),\n",
    "                    (pro['title'].str.contains(property_type[11])==True),\n",
    "                    (pro['title'].str.contains(property_type[12])==True),\n",
    "                    (pro['title'].str.contains(property_type[13])==True),\n",
    "                    (pro['title'].str.contains(property_type[14])==True),\n",
    "                    (pro['title'].str.contains(property_type[15])==True),\n",
    "                    (pro['title'].str.contains(property_type[16])==True)]"
   ]
  },
  {
   "cell_type": "code",
   "execution_count": 88,
   "metadata": {},
   "outputs": [],
   "source": [
    "pro['type']= np.select(condition_type, property_type)"
   ]
  },
  {
   "cell_type": "code",
   "execution_count": 89,
   "metadata": {},
   "outputs": [],
   "source": [
    "condition_area = [(pro['address'].str.contains(areas[0]) == True),\n",
    "                (pro['address'].str.contains(areas[1]) == True),\n",
    "                (pro['address'].str.contains(areas[2]) == True),\n",
    "                (pro['address'].str.contains(areas[3]) == True),\n",
    "                (pro['address'].str.contains(areas[4]) == True),\n",
    "                (pro['address'].str.contains(areas[5]) == True),\n",
    "                (pro['address'].str.contains(areas[6]) == True),\n",
    "                (pro['address'].str.contains(areas[7]) == True),\n",
    "                (pro['address'].str.contains(areas[8]) == True),\n",
    "                (pro['address'].str.contains(areas[9]) == True),\n",
    "                (pro['address'].str.contains(areas[10]) == True),\n",
    "                (pro['address'].str.contains(areas[11]) == True),\n",
    "                (pro['address'].str.contains(areas[12]) == True),\n",
    "                (pro['address'].str.contains(areas[13]) == True),\n",
    "                (pro['address'].str.contains(areas[14]) == True),\n",
    "                (pro['address'].str.contains(areas[15]) == True),\n",
    "                (pro['address'].str.contains(areas[16]) == True),\n",
    "                (pro['address'].str.contains(areas[17]) == True),\n",
    "                (pro['address'].str.contains(areas[18]) == True),\n",
    "                (pro['address'].str.contains(areas[19]) == True),\n",
    "                (pro['address'].str.contains(areas[20]) == True),\n",
    "                (pro['address'].str.contains(areas[21]) == True),\n",
    "                (pro['address'].str.contains(areas[22]) == True),\n",
    "                (pro['address'].str.contains(areas[23]) == True),\n",
    "                (pro['address'].str.contains(areas[24]) == True),\n",
    "                (pro['address'].str.contains(areas[25]) == True),\n",
    "                (pro['address'].str.contains(areas[26]) == True),\n",
    "                (pro['address'].str.contains(areas[27]) == True),\n",
    "                (pro['address'].str.contains(areas[28]) == True),\n",
    "                (pro['address'].str.contains(areas[29]) == True),\n",
    "                (pro['address'].str.contains(areas[30]) == True),\n",
    "                (pro['address'].str.contains(areas[31]) == True),\n",
    "                (pro['address'].str.contains(areas[32]) == True),\n",
    "                (pro['address'].str.contains(areas[33]) == True),\n",
    "                (pro['address'].str.contains(areas[34]) == True),\n",
    "                (pro['address'].str.contains(areas[35]) == True),\n",
    "                (pro['address'].str.contains(areas[36]) == True),\n",
    "                (pro['address'].str.contains(areas[37]) == True),\n",
    "                (pro['address'].str.contains(areas[38]) == True),\n",
    "                (pro['address'].str.contains(areas[39]) == True),\n",
    "                (pro['address'].str.contains(areas[40]) == True),\n",
    "                (pro['address'].str.contains(areas[41]) == True),\n",
    "                (pro['address'].str.contains(areas[42]) == True),\n",
    "                (pro['address'].str.contains(areas[43]) == True),\n",
    "                (pro['address'].str.contains(areas[44]) == True),\n",
    "                (pro['address'].str.contains(areas[45]) == True),\n",
    "                (pro['address'].str.contains(areas[46]) == True),\n",
    "                (pro['address'].str.contains(areas[47]) == True),\n",
    "                (pro['address'].str.contains(areas[48]) == True),\n",
    "                (pro['address'].str.contains(areas[49]) == True),\n",
    "                (pro['address'].str.contains(areas[50]) == True),\n",
    "                (pro['address'].str.contains(areas[51]) == True),\n",
    "                (pro['address'].str.contains(areas[52]) == True),\n",
    "                (pro['address'].str.contains(areas[53]) == True),\n",
    "                (pro['address'].str.contains(areas[54]) == True),\n",
    "                (pro['address'].str.contains(areas[55]) == True),\n",
    "                (pro['address'].str.contains(areas[56]) == True),\n",
    "                (pro['address'].str.contains(areas[57]) == True),\n",
    "                (pro['address'].str.contains(areas[58]) == True),\n",
    "                (pro['address'].str.contains(areas[59]) == True),\n",
    "                (pro['address'].str.contains(areas[60]) == True),\n",
    "                (pro['address'].str.contains(areas[61]) == True),\n",
    "                (pro['address'].str.contains(areas[62]) == True),\n",
    "                (pro['address'].str.contains(areas[63]) == True),\n",
    "                (pro['address'].str.contains(areas[64]) == True),\n",
    "                (pro['address'].str.contains(areas[65]) == True),\n",
    "                (pro['address'].str.contains(areas[66]) == True),\n",
    "                (pro['address'].str.contains(areas[67]) == True),\n",
    "                (pro['address'].str.contains(areas[68]) == True),\n",
    "                (pro['address'].str.contains(areas[69]) == True),\n",
    "                (pro['address'].str.contains(areas[70]) == True),\n",
    "                (pro['address'].str.contains(areas[71]) == True),\n",
    "                (pro['address'].str.contains(areas[72]) == True),\n",
    "                (pro['address'].str.contains(areas[73]) == True),\n",
    "                (pro['address'].str.contains(areas[74]) == True),\n",
    "                (pro['address'].str.contains(areas[75]) == True),\n",
    "                (pro['address'].str.contains(areas[76]) == True),\n",
    "                (pro['address'].str.contains(areas[77]) == True),\n",
    "                (pro['address'].str.contains(areas[78]) == True),\n",
    "                (pro['address'].str.contains(areas[79]) == True)]"
   ]
  },
  {
   "cell_type": "code",
   "execution_count": 90,
   "metadata": {},
   "outputs": [],
   "source": [
    "pro['area']= np.select(condition_area, areas)"
   ]
  },
  {
   "cell_type": "code",
   "execution_count": 91,
   "metadata": {},
   "outputs": [
    {
     "output_type": "execute_result",
     "data": {
      "text/plain": [
       "   Unnamed: 0                                              title  \\\n",
       "0           1                2 BEDROOM FLAT / APARTMENT FOR RENT   \n",
       "1           2                3 BEDROOM FLAT / APARTMENT FOR RENT   \n",
       "2           3           5 BEDROOM DETACHED DUPLEX HOUSE FOR RENT   \n",
       "3           4           4 BEDROOM DETACHED DUPLEX HOUSE FOR RENT   \n",
       "4           5  5 BEDROOM OFFICE SPACE COMMERCIAL PROPERTY FOR...   \n",
       "\n",
       "                                    address  \\\n",
       "0                      Mende Maryland Lagos   \n",
       "1  Ajao estate IsoloAjao Estate Isolo Lagos   \n",
       "2                       Chevron Lekki Lagos   \n",
       "3                  Osapa London Lekki Lagos   \n",
       "4    off coker roadCoker Road Ilupeju Lagos   \n",
       "\n",
       "                               date_added     bed     bath     toilet  \\\n",
       "0                       Added 19 Nov 2020  2 beds  2 baths  2 Toilets   \n",
       "1                       Added 19 Nov 2020  3 beds  3 baths  4 Toilets   \n",
       "2  Updated 19 Nov 2020, Added 05 Nov 2020  5 beds  5 baths  6 Toilets   \n",
       "3  Updated 19 Nov 2020, Added 13 Nov 2020  4 beds  4 baths  5 Toilets   \n",
       "4                       Added 18 Nov 2020  5 beds  5 baths  7 Toilets   \n",
       "\n",
       "     price              type      area  \n",
       "0  1000000  FLAT / APARTMENT  Maryland  \n",
       "1  1500000  FLAT / APARTMENT         0  \n",
       "2  4000000   DETACHED DUPLEX     Lekki  \n",
       "3  3500000   DETACHED DUPLEX     Lekki  \n",
       "4  5000000                 0     Coker  "
      ],
      "text/html": "<div>\n<style scoped>\n    .dataframe tbody tr th:only-of-type {\n        vertical-align: middle;\n    }\n\n    .dataframe tbody tr th {\n        vertical-align: top;\n    }\n\n    .dataframe thead th {\n        text-align: right;\n    }\n</style>\n<table border=\"1\" class=\"dataframe\">\n  <thead>\n    <tr style=\"text-align: right;\">\n      <th></th>\n      <th>Unnamed: 0</th>\n      <th>title</th>\n      <th>address</th>\n      <th>date_added</th>\n      <th>bed</th>\n      <th>bath</th>\n      <th>toilet</th>\n      <th>price</th>\n      <th>type</th>\n      <th>area</th>\n    </tr>\n  </thead>\n  <tbody>\n    <tr>\n      <th>0</th>\n      <td>1</td>\n      <td>2 BEDROOM FLAT / APARTMENT FOR RENT</td>\n      <td>Mende Maryland Lagos</td>\n      <td>Added 19 Nov 2020</td>\n      <td>2 beds</td>\n      <td>2 baths</td>\n      <td>2 Toilets</td>\n      <td>1000000</td>\n      <td>FLAT / APARTMENT</td>\n      <td>Maryland</td>\n    </tr>\n    <tr>\n      <th>1</th>\n      <td>2</td>\n      <td>3 BEDROOM FLAT / APARTMENT FOR RENT</td>\n      <td>Ajao estate IsoloAjao Estate Isolo Lagos</td>\n      <td>Added 19 Nov 2020</td>\n      <td>3 beds</td>\n      <td>3 baths</td>\n      <td>4 Toilets</td>\n      <td>1500000</td>\n      <td>FLAT / APARTMENT</td>\n      <td>0</td>\n    </tr>\n    <tr>\n      <th>2</th>\n      <td>3</td>\n      <td>5 BEDROOM DETACHED DUPLEX HOUSE FOR RENT</td>\n      <td>Chevron Lekki Lagos</td>\n      <td>Updated 19 Nov 2020, Added 05 Nov 2020</td>\n      <td>5 beds</td>\n      <td>5 baths</td>\n      <td>6 Toilets</td>\n      <td>4000000</td>\n      <td>DETACHED DUPLEX</td>\n      <td>Lekki</td>\n    </tr>\n    <tr>\n      <th>3</th>\n      <td>4</td>\n      <td>4 BEDROOM DETACHED DUPLEX HOUSE FOR RENT</td>\n      <td>Osapa London Lekki Lagos</td>\n      <td>Updated 19 Nov 2020, Added 13 Nov 2020</td>\n      <td>4 beds</td>\n      <td>4 baths</td>\n      <td>5 Toilets</td>\n      <td>3500000</td>\n      <td>DETACHED DUPLEX</td>\n      <td>Lekki</td>\n    </tr>\n    <tr>\n      <th>4</th>\n      <td>5</td>\n      <td>5 BEDROOM OFFICE SPACE COMMERCIAL PROPERTY FOR...</td>\n      <td>off coker roadCoker Road Ilupeju Lagos</td>\n      <td>Added 18 Nov 2020</td>\n      <td>5 beds</td>\n      <td>5 baths</td>\n      <td>7 Toilets</td>\n      <td>5000000</td>\n      <td>0</td>\n      <td>Coker</td>\n    </tr>\n  </tbody>\n</table>\n</div>"
     },
     "metadata": {},
     "execution_count": 91
    }
   ],
   "source": [
    "pro.head()"
   ]
  },
  {
   "cell_type": "code",
   "execution_count": 92,
   "metadata": {},
   "outputs": [
    {
     "output_type": "stream",
     "name": "stdout",
     "text": [
      "<class 'pandas.core.frame.DataFrame'>\nInt64Index: 1001 entries, 0 to 1098\nData columns (total 10 columns):\n #   Column      Non-Null Count  Dtype \n---  ------      --------------  ----- \n 0   Unnamed: 0  1001 non-null   int64 \n 1   title       1001 non-null   object\n 2   address     1001 non-null   object\n 3   date_added  1001 non-null   object\n 4   bed         1001 non-null   object\n 5   bath        1001 non-null   object\n 6   toilet      1001 non-null   object\n 7   price       1001 non-null   int32 \n 8   type        1001 non-null   object\n 9   area        1001 non-null   object\ndtypes: int32(1), int64(1), object(8)\nmemory usage: 82.1+ KB\n"
     ]
    }
   ],
   "source": [
    "pro.info()"
   ]
  },
  {
   "cell_type": "code",
   "execution_count": 112,
   "metadata": {},
   "outputs": [],
   "source": [
    "rentright_info = pro[['type', 'area', 'bed', 'bath', 'toilet', 'price']]"
   ]
  },
  {
   "cell_type": "code",
   "execution_count": 122,
   "metadata": {},
   "outputs": [],
   "source": [
    "rentright_info.drop(rentright_info[rentright_info.type == '0'].index, inplace=True)\n",
    "rentright_info.drop(rentright_info[rentright_info.area == '0'].index, inplace=True)"
   ]
  },
  {
   "cell_type": "code",
   "execution_count": 123,
   "metadata": {},
   "outputs": [],
   "source": [
    "rentright_info.bed = rentright_info.bed.str.replace('beds', '')\n",
    "rentright_info.bath = rentright_info.bath.str.replace('baths', '')\n",
    "rentright_info.toilet = rentright_info.toilet.str.replace('Toilets', '')\n",
    "rentright_info.type = rentright_info.type.str.lower()"
   ]
  },
  {
   "cell_type": "code",
   "execution_count": 166,
   "metadata": {},
   "outputs": [],
   "source": [
    "rentright_info.drop(rentright_info[rentright_info.bed.str.contains('0')].index, inplace=True)\n",
    "rentright_info.drop(rentright_info[rentright_info.bath.str.contains('0')].index, inplace=True)\n",
    "rentright_info.drop(rentright_info[rentright_info.toilet.str.contains('0')].index, inplace=True)\n",
    "rentright_info.drop(rentright_info[rentright_info.bed == ''].index, inplace=True)\n",
    "rentright_info.drop(rentright_info[rentright_info.bath == ''].index, inplace=True)\n",
    "rentright_info.drop(rentright_info[rentright_info.toilet == ''].index, inplace=True)"
   ]
  },
  {
   "cell_type": "code",
   "execution_count": 171,
   "metadata": {},
   "outputs": [],
   "source": [
    "rentright_info.reset_index(inplace=True)"
   ]
  },
  {
   "cell_type": "code",
   "execution_count": 172,
   "metadata": {},
   "outputs": [],
   "source": [
    "del rentright_info['level_0']"
   ]
  },
  {
   "cell_type": "code",
   "execution_count": 173,
   "metadata": {},
   "outputs": [],
   "source": [
    "del rentright_info['index']"
   ]
  },
  {
   "cell_type": "code",
   "execution_count": 174,
   "metadata": {},
   "outputs": [
    {
     "output_type": "stream",
     "name": "stdout",
     "text": [
      "<class 'pandas.core.frame.DataFrame'>\nRangeIndex: 731 entries, 0 to 730\nData columns (total 6 columns):\n #   Column  Non-Null Count  Dtype \n---  ------  --------------  ----- \n 0   type    731 non-null    object\n 1   area    731 non-null    object\n 2   bed     731 non-null    object\n 3   bath    731 non-null    object\n 4   toilet  731 non-null    object\n 5   price   731 non-null    int32 \ndtypes: int32(1), object(5)\nmemory usage: 31.5+ KB\n"
     ]
    }
   ],
   "source": [
    "rentright_info.info()"
   ]
  },
  {
   "cell_type": "code",
   "execution_count": 175,
   "metadata": {},
   "outputs": [
    {
     "output_type": "execute_result",
     "data": {
      "text/plain": [
       "                    type             area bed bath toilet     price\n",
       "0       flat / apartment         Maryland  2    2      2    1000000\n",
       "1        detached duplex            Lekki  5    5      6    4000000\n",
       "2        detached duplex            Lekki  4    4      5    3500000\n",
       "3        terraced duplex            Ikeja  4    4      5    5500000\n",
       "4   semi detached duplex            Lekki  4    4      5    4000000\n",
       "5       flat / apartment            Lekki  3    3      4    2500000\n",
       "6        terraced duplex            Lekki  4    4      5    5000000\n",
       "7   semi detached duplex            Lekki  4    4      5    3500000\n",
       "8   semi detached duplex            Lekki  4    4      5    3500000\n",
       "9        terraced duplex            Lekki  4    4      5    2800000\n",
       "10      flat / apartment            Ikoyi  3    3      4    9000000\n",
       "11      flat / apartment            Ikoyi  3    3      4   10000000\n",
       "12       terraced duplex            Ikeja  4    4      5    6500000\n",
       "13      flat / apartment  Victoria Island  3    3      4   21500000\n",
       "14       terraced duplex            Ikoyi  4    5      4   15000000"
      ],
      "text/html": "<div>\n<style scoped>\n    .dataframe tbody tr th:only-of-type {\n        vertical-align: middle;\n    }\n\n    .dataframe tbody tr th {\n        vertical-align: top;\n    }\n\n    .dataframe thead th {\n        text-align: right;\n    }\n</style>\n<table border=\"1\" class=\"dataframe\">\n  <thead>\n    <tr style=\"text-align: right;\">\n      <th></th>\n      <th>type</th>\n      <th>area</th>\n      <th>bed</th>\n      <th>bath</th>\n      <th>toilet</th>\n      <th>price</th>\n    </tr>\n  </thead>\n  <tbody>\n    <tr>\n      <th>0</th>\n      <td>flat / apartment</td>\n      <td>Maryland</td>\n      <td>2</td>\n      <td>2</td>\n      <td>2</td>\n      <td>1000000</td>\n    </tr>\n    <tr>\n      <th>1</th>\n      <td>detached duplex</td>\n      <td>Lekki</td>\n      <td>5</td>\n      <td>5</td>\n      <td>6</td>\n      <td>4000000</td>\n    </tr>\n    <tr>\n      <th>2</th>\n      <td>detached duplex</td>\n      <td>Lekki</td>\n      <td>4</td>\n      <td>4</td>\n      <td>5</td>\n      <td>3500000</td>\n    </tr>\n    <tr>\n      <th>3</th>\n      <td>terraced duplex</td>\n      <td>Ikeja</td>\n      <td>4</td>\n      <td>4</td>\n      <td>5</td>\n      <td>5500000</td>\n    </tr>\n    <tr>\n      <th>4</th>\n      <td>semi detached duplex</td>\n      <td>Lekki</td>\n      <td>4</td>\n      <td>4</td>\n      <td>5</td>\n      <td>4000000</td>\n    </tr>\n    <tr>\n      <th>5</th>\n      <td>flat / apartment</td>\n      <td>Lekki</td>\n      <td>3</td>\n      <td>3</td>\n      <td>4</td>\n      <td>2500000</td>\n    </tr>\n    <tr>\n      <th>6</th>\n      <td>terraced duplex</td>\n      <td>Lekki</td>\n      <td>4</td>\n      <td>4</td>\n      <td>5</td>\n      <td>5000000</td>\n    </tr>\n    <tr>\n      <th>7</th>\n      <td>semi detached duplex</td>\n      <td>Lekki</td>\n      <td>4</td>\n      <td>4</td>\n      <td>5</td>\n      <td>3500000</td>\n    </tr>\n    <tr>\n      <th>8</th>\n      <td>semi detached duplex</td>\n      <td>Lekki</td>\n      <td>4</td>\n      <td>4</td>\n      <td>5</td>\n      <td>3500000</td>\n    </tr>\n    <tr>\n      <th>9</th>\n      <td>terraced duplex</td>\n      <td>Lekki</td>\n      <td>4</td>\n      <td>4</td>\n      <td>5</td>\n      <td>2800000</td>\n    </tr>\n    <tr>\n      <th>10</th>\n      <td>flat / apartment</td>\n      <td>Ikoyi</td>\n      <td>3</td>\n      <td>3</td>\n      <td>4</td>\n      <td>9000000</td>\n    </tr>\n    <tr>\n      <th>11</th>\n      <td>flat / apartment</td>\n      <td>Ikoyi</td>\n      <td>3</td>\n      <td>3</td>\n      <td>4</td>\n      <td>10000000</td>\n    </tr>\n    <tr>\n      <th>12</th>\n      <td>terraced duplex</td>\n      <td>Ikeja</td>\n      <td>4</td>\n      <td>4</td>\n      <td>5</td>\n      <td>6500000</td>\n    </tr>\n    <tr>\n      <th>13</th>\n      <td>flat / apartment</td>\n      <td>Victoria Island</td>\n      <td>3</td>\n      <td>3</td>\n      <td>4</td>\n      <td>21500000</td>\n    </tr>\n    <tr>\n      <th>14</th>\n      <td>terraced duplex</td>\n      <td>Ikoyi</td>\n      <td>4</td>\n      <td>5</td>\n      <td>4</td>\n      <td>15000000</td>\n    </tr>\n  </tbody>\n</table>\n</div>"
     },
     "metadata": {},
     "execution_count": 175
    }
   ],
   "source": [
    "rentright_info.head(15)"
   ]
  },
  {
   "cell_type": "code",
   "execution_count": 176,
   "metadata": {},
   "outputs": [],
   "source": [
    "rent_type = rentright_info.type.unique()\n",
    "\n",
    "rent_area = rentright_info.area.unique()\n"
   ]
  },
  {
   "cell_type": "code",
   "execution_count": 177,
   "metadata": {},
   "outputs": [],
   "source": [
    "rentype = pd.DataFrame(rent_type)\n",
    "rentarea = pd.DataFrame(rent_area)"
   ]
  },
  {
   "cell_type": "code",
   "execution_count": 178,
   "metadata": {},
   "outputs": [],
   "source": [
    "rentright_info.to_csv('rent_right_data.csv')\n",
    "rentype.to_csv('rent_type.csv')\n",
    "rentarea.to_csv('rent_area.csv')"
   ]
  },
  {
   "cell_type": "code",
   "execution_count": null,
   "metadata": {},
   "outputs": [],
   "source": []
  }
 ]
}