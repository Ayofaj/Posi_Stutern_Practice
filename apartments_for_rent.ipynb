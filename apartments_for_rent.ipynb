{
 "metadata": {
  "language_info": {
   "codemirror_mode": {
    "name": "ipython",
    "version": 3
   },
   "file_extension": ".py",
   "mimetype": "text/x-python",
   "name": "python",
   "nbconvert_exporter": "python",
   "pygments_lexer": "ipython3",
   "version": "3.9.0-final"
  },
  "orig_nbformat": 2,
  "kernelspec": {
   "name": "Python 3.9.0 64-bit",
   "display_name": "Python 3.9.0 64-bit",
   "metadata": {
    "interpreter": {
     "hash": "57c954ec3de407110b045864121580508f7e4a8598d712077389189fc709a535"
    }
   }
  }
 },
 "nbformat": 4,
 "nbformat_minor": 2,
 "cells": [
  {
   "cell_type": "code",
   "execution_count": 2,
   "metadata": {},
   "outputs": [],
   "source": [
    "import pandas as pd \n",
    "from bs4 import BeautifulSoup\n",
    "import requests\n",
    "import time"
   ]
  },
  {
   "cell_type": "code",
   "execution_count": 3,
   "metadata": {},
   "outputs": [],
   "source": [
    "url= 'https://nigeriapropertycentre.com/for-rent/flats-apartments/lagos/showtype'\n",
    "headers= {'User-Agent': 'Mozilla/5.0 (Windows NT 10.0; Win64; x64) AppleWebKit/537.36 (KHTML, like Gecko) Chrome/86.0.4240.111 Safari/537.36'}"
   ]
  },
  {
   "cell_type": "code",
   "execution_count": 4,
   "metadata": {},
   "outputs": [
    {
     "output_type": "execute_result",
     "data": {
      "text/plain": [
       "200"
      ]
     },
     "metadata": {},
     "execution_count": 4
    }
   ],
   "source": [
    "r = requests.get(url, headers=headers)\n",
    "r.status_code"
   ]
  },
  {
   "cell_type": "code",
   "execution_count": 5,
   "metadata": {},
   "outputs": [],
   "source": [
    "rent = BeautifulSoup(r.text, 'html.parser')"
   ]
  },
  {
   "cell_type": "code",
   "execution_count": 6,
   "metadata": {},
   "outputs": [
    {
     "output_type": "execute_result",
     "data": {
      "text/plain": [
       "'html'"
      ]
     },
     "metadata": {},
     "execution_count": 6
    }
   ],
   "source": [
    "len(rent.contents)\n",
    "rent.contents[2].name"
   ]
  },
  {
   "cell_type": "code",
   "execution_count": 7,
   "metadata": {},
   "outputs": [
    {
     "output_type": "execute_result",
     "data": {
      "text/plain": [
       "21"
      ]
     },
     "metadata": {},
     "execution_count": 7
    }
   ],
   "source": [
    "titles= rent.select('.content-title')\n",
    "len(titles)\n"
   ]
  },
  {
   "cell_type": "code",
   "execution_count": 8,
   "metadata": {},
   "outputs": [
    {
     "output_type": "execute_result",
     "data": {
      "text/plain": [
       "'Self contained (single rooms) for rent'"
      ]
     },
     "metadata": {},
     "execution_count": 8
    }
   ],
   "source": [
    "content_title=[]\n",
    "for title in titles:\n",
    "    content_title.append(title.get_text(strip=True))\n",
    "content_title[0]"
   ]
  },
  {
   "cell_type": "code",
   "execution_count": 9,
   "metadata": {},
   "outputs": [],
   "source": [
    "content_titles= pd.Series(content_title)"
   ]
  },
  {
   "cell_type": "code",
   "execution_count": 10,
   "metadata": {},
   "outputs": [
    {
     "output_type": "execute_result",
     "data": {
      "text/plain": [
       "21"
      ]
     },
     "metadata": {},
     "execution_count": 10
    }
   ],
   "source": [
    "addresses= rent.select('.voffset-bottom-10 > strong ')\n",
    "len(addresses)"
   ]
  },
  {
   "cell_type": "code",
   "execution_count": 11,
   "metadata": {},
   "outputs": [
    {
     "output_type": "execute_result",
     "data": {
      "text/plain": [
       "'Badore, Ajah, Lagos'"
      ]
     },
     "metadata": {},
     "execution_count": 11
    }
   ],
   "source": [
    "content_address=[]\n",
    "for address in addresses:\n",
    "    content_address.append(address.get_text(strip=True))\n",
    "content_address[0]"
   ]
  },
  {
   "cell_type": "code",
   "execution_count": 12,
   "metadata": {},
   "outputs": [],
   "source": [
    "content_addresses= pd.Series(content_address)"
   ]
  },
  {
   "cell_type": "code",
   "execution_count": 13,
   "metadata": {},
   "outputs": [
    {
     "output_type": "execute_result",
     "data": {
      "text/plain": [
       "20"
      ]
     },
     "metadata": {},
     "execution_count": 13
    }
   ],
   "source": [
    "adds= rent.select('.description.hidden-xs > span ')\n",
    "len(adds)"
   ]
  },
  {
   "cell_type": "code",
   "execution_count": 14,
   "metadata": {},
   "outputs": [
    {
     "output_type": "execute_result",
     "data": {
      "text/plain": [
       "'Added Today'"
      ]
     },
     "metadata": {},
     "execution_count": 14
    }
   ],
   "source": [
    "content_added=[]\n",
    "for add in adds:\n",
    "    content_added.append(add.get_text(strip=True))\n",
    "content_added[0]"
   ]
  },
  {
   "cell_type": "code",
   "execution_count": 15,
   "metadata": {},
   "outputs": [],
   "source": [
    "content_addeds = pd.Series(content_added)"
   ]
  },
  {
   "cell_type": "code",
   "execution_count": 80,
   "metadata": {},
   "outputs": [
    {
     "output_type": "execute_result",
     "data": {
      "text/plain": [
       "42"
      ]
     },
     "metadata": {},
     "execution_count": 80
    }
   ],
   "source": [
    "prices= rent.select('.price')\n",
    "len(prices)"
   ]
  },
  {
   "cell_type": "code",
   "execution_count": 107,
   "metadata": {},
   "outputs": [
    {
     "output_type": "execute_result",
     "data": {
      "text/plain": [
       "'300000.00'"
      ]
     },
     "metadata": {},
     "execution_count": 107
    }
   ],
   "source": [
    "content_price=[]\n",
    "for i, price in enumerate(prices):\n",
    "    if i % 2 !=0:\n",
    "        content_price.append(price.get('content'))\n",
    "content_price[0]\n"
   ]
  },
  {
   "cell_type": "code",
   "execution_count": 18,
   "metadata": {},
   "outputs": [],
   "source": [
    "content_prices= pd.Series(content_price)"
   ]
  },
  {
   "cell_type": "code",
   "execution_count": 81,
   "metadata": {},
   "outputs": [
    {
     "output_type": "execute_result",
     "data": {
      "text/plain": [
       "15"
      ]
     },
     "metadata": {},
     "execution_count": 81
    }
   ],
   "source": [
    "rent_bedrooms= rent.find_all('i', class_='fa-bed')\n",
    "bedrooms= []\n",
    "\n",
    "for rent_bedroom in rent_bedrooms:\n",
    "    bedrooms.append(rent_bedroom.find_next_sibling('span'))\n",
    "\n",
    "len(bedrooms)"
   ]
  },
  {
   "cell_type": "code",
   "execution_count": 82,
   "metadata": {},
   "outputs": [
    {
     "output_type": "execute_result",
     "data": {
      "text/plain": [
       "'3'"
      ]
     },
     "metadata": {},
     "execution_count": 82
    }
   ],
   "source": [
    "content_bedroom=[]\n",
    "for bedroom in bedrooms:\n",
    "    content_bedroom.append(bedroom.get_text(strip=True))\n",
    "content_bedroom[0]"
   ]
  },
  {
   "cell_type": "code",
   "execution_count": 90,
   "metadata": {},
   "outputs": [
    {
     "output_type": "execute_result",
     "data": {
      "text/plain": [
       "21"
      ]
     },
     "metadata": {},
     "execution_count": 90
    }
   ],
   "source": [
    "rent_bathrooms= rent.find_all('i', class_='fa-bath')\n",
    "bathrooms= []\n",
    "\n",
    "for rent_bathroom in rent_bathrooms:\n",
    "    bathrooms.append(rent_bathroom.find_next_sibling('span'))\n",
    "\n",
    "len(bathrooms)"
   ]
  },
  {
   "cell_type": "code",
   "execution_count": 95,
   "metadata": {},
   "outputs": [
    {
     "output_type": "execute_result",
     "data": {
      "text/plain": [
       "'3'"
      ]
     },
     "metadata": {},
     "execution_count": 95
    }
   ],
   "source": [
    "content_bathroom=[]\n",
    "for bathroom in bathrooms:\n",
    "    content_bathroom.append(bathroom.get_text(strip=True))\n",
    "content_bathroom[2]"
   ]
  },
  {
   "cell_type": "code",
   "execution_count": 99,
   "metadata": {},
   "outputs": [
    {
     "output_type": "execute_result",
     "data": {
      "text/plain": [
       "21"
      ]
     },
     "metadata": {},
     "execution_count": 99
    }
   ],
   "source": [
    "rent_toilets= rent.find_all('i', class_='fa-toilet')\n",
    "toilets= []\n",
    "\n",
    "for rent_toilet in rent_toilets:\n",
    "    toilets.append(rent_toilet.find_next_sibling('span'))\n",
    "\n",
    "len(toilets)"
   ]
  },
  {
   "cell_type": "code",
   "execution_count": 102,
   "metadata": {},
   "outputs": [
    {
     "output_type": "execute_result",
     "data": {
      "text/plain": [
       "'1'"
      ]
     },
     "metadata": {},
     "execution_count": 102
    }
   ],
   "source": [
    "content_toilet=[]\n",
    "for toilet in toilets:\n",
    "    content_toilet.append(toilet.get_text(strip=True))\n",
    "content_toilet[0]"
   ]
  },
  {
   "cell_type": "code",
   "execution_count": 103,
   "metadata": {},
   "outputs": [
    {
     "output_type": "execute_result",
     "data": {
      "text/plain": [
       "16"
      ]
     },
     "metadata": {},
     "execution_count": 103
    }
   ],
   "source": [
    "rent_parking_spaces= rent.find_all('i', class_='fa-car')\n",
    "parking_spaces= []\n",
    "\n",
    "for rent_parking_space in rent_parking_spaces:\n",
    "    parking_spaces.append(rent_parking_space.find_next_sibling('span'))\n",
    "\n",
    "len(parking_spaces)"
   ]
  },
  {
   "cell_type": "code",
   "execution_count": 105,
   "metadata": {},
   "outputs": [
    {
     "output_type": "execute_result",
     "data": {
      "text/plain": [
       "'1'"
      ]
     },
     "metadata": {},
     "execution_count": 105
    }
   ],
   "source": [
    "content_parking=[]\n",
    "for parking_space in parking_spaces:\n",
    "    content_parking.append(parking_space.get_text(strip=True))\n",
    "content_parking[0]"
   ]
  },
  {
   "cell_type": "code",
   "execution_count": 267,
   "metadata": {},
   "outputs": [],
   "source": [
    "apartments = pd.DataFrame({'title': content_titles,\n",
    "                            'address': content_addresses,\n",
    "                            'date added': content_addeds.reindex(content_titles.index),\n",
    "                            'price': content_prices})"
   ]
  },
  {
   "cell_type": "code",
   "execution_count": 268,
   "metadata": {},
   "outputs": [],
   "source": [
    "apartments.to_csv('apartment.csv')"
   ]
  },
  {
   "cell_type": "code",
   "execution_count": 108,
   "metadata": {},
   "outputs": [],
   "source": [
    "def scrape_page(url):\n",
    "    \"\"\"\n",
    "        Argument: url -> of the website to scrape\n",
    "        Output: (content_titles, content_addresses, content_addeds, content_prices)\n",
    "\n",
    "    \"\"\"\n",
    "    r = requests.get(url, headers=headers)\n",
    "    rent = BeautifulSoup(r.text, 'html.parser')\n",
    "    \n",
    "    titles= rent.select('.content-title')\n",
    "    content_title=[]\n",
    "    for title in titles:\n",
    "        content_title.append(title.get_text(strip=True))\n",
    "\n",
    "    \n",
    "    addresses= rent.select('.voffset-bottom-10 > strong ')\n",
    "    content_address=[]\n",
    "    for address in addresses:\n",
    "        content_address.append(address.get_text(strip=True))\n",
    "    \n",
    "    \n",
    "    adds= rent.select('.description.hidden-xs > span ')\n",
    "    content_added=[]\n",
    "    for add in adds:\n",
    "        content_added.append(add.get_text(strip=True))\n",
    "    \n",
    "\n",
    "    rent_bedrooms= rent.find_all('i', class_='fa-bed')\n",
    "    bedrooms= []\n",
    "    for rent_bedroom in rent_bedrooms:\n",
    "        bedrooms.append(rent_bedroom.find_next_sibling('span'))\n",
    "    content_bedroom=[]\n",
    "    for bedroom in bedrooms:\n",
    "        content_bedroom.append(bedroom.get_text(strip=True))\n",
    "    \n",
    "\n",
    "    rent_bathrooms= rent.find_all('i', class_='fa-bath')\n",
    "    bathrooms= []\n",
    "    for rent_bathroom in rent_bathrooms:\n",
    "        bathrooms.append(rent_bathroom.find_next_sibling('span'))\n",
    "    content_bathroom=[]\n",
    "    for bathroom in bathrooms:\n",
    "        content_bathroom.append(bathroom.get_text(strip=True))\n",
    "    \n",
    "\n",
    "    rent_toilets= rent.find_all('i', class_='fa-toilet')\n",
    "    toilets= []\n",
    "    for rent_toilet in rent_toilets:\n",
    "        toilets.append(rent_toilet.find_next_sibling('span'))\n",
    "    content_toilet=[]\n",
    "    for toilet in toilets:\n",
    "        content_toilet.append(toilet.get_text(strip=True))\n",
    "\n",
    "    \n",
    "    rent_parking_spaces= rent.find_all('i', class_='fa-car')\n",
    "    parking_spaces= []\n",
    "    for rent_parking_space in rent_parking_spaces:\n",
    "        parking_spaces.append(rent_parking_space.find_next_sibling('span'))\n",
    "    content_parking=[]\n",
    "    for parking_space in parking_spaces:\n",
    "        content_parking.append(parking_space.get_text(strip=True))\n",
    "\n",
    "\n",
    "    prices= rent.select('.price')\n",
    "    content_price=[]\n",
    "    for i, price in enumerate(prices):\n",
    "        if i % 2 !=0:\n",
    "            content_price.append(price.get('content'))\n",
    "    \n",
    "    \n",
    "    return content_title, content_address, content_added, content_bedroom, content_bathroom, content_toilet, content_parking, content_price"
   ]
  },
  {
   "cell_type": "code",
   "execution_count": 109,
   "metadata": {
    "tags": []
   },
   "outputs": [],
   "source": [
    "#urls =['https://nigeriapropertycentre.com/for-rent/flats-apartments/lagos/showtype', 'https://nigeriapropertycentre.com/for-rent/flats-apartments/lagos/showtype?page=2', 'https://nigeriapropertycentre.com/for-rent/flats-apartments/lagos/showtype?page=3', ]\n",
    "\n",
    "base_url = 'https://nigeriapropertycentre.com/for-rent/flats-apartments/lagos/showtype'\n",
    "urls = [base_url]\n",
    "for i in range(2,55):\n",
    "    url = base_url + '?page=' + str(i)\n",
    "    urls.append(url)"
   ]
  },
  {
   "cell_type": "code",
   "execution_count": 110,
   "metadata": {},
   "outputs": [],
   "source": [
    "master_titles, master_addresses, master_date_added, master_bedrooms, master_bathrooms, master_toilets, master_parking_spaces, master_prices = [], [], [], [], [], [], [], []\n",
    "for url in urls:\n",
    "    content_title, content_address, content_added, content_bedroom, content_bathroom, content_toilet, content_parking, content_price = scrape_page(url)\n",
    "    master_titles += content_title\n",
    "    master_addresses += content_address\n",
    "    master_date_added += content_added\n",
    "    master_bedrooms += content_bedroom\n",
    "    master_bathrooms += content_bathroom\n",
    "    master_toilets += content_toilet\n",
    "    master_parking_spaces += content_parking\n",
    "    master_prices += content_price"
   ]
  },
  {
   "cell_type": "code",
   "execution_count": 111,
   "metadata": {},
   "outputs": [
    {
     "output_type": "execute_result",
     "data": {
      "text/plain": [
       "951"
      ]
     },
     "metadata": {},
     "execution_count": 111
    }
   ],
   "source": [
    "len(master_bedrooms)"
   ]
  },
  {
   "cell_type": "code",
   "execution_count": 121,
   "metadata": {},
   "outputs": [],
   "source": [
    "master_title= pd.Series(master_titles, name= 'title')\n",
    "master_address= pd.Series(master_addresses, name= 'address')\n",
    "master_date = pd.Series(master_date_added, name= 'date_added')\n",
    "master_bedroom = pd.Series(master_bedrooms, name= 'bedroom')\n",
    "master_bathroom = pd.Series(master_bathrooms, name= 'bathroom')\n",
    "master_toilet = pd.Series(master_toilets, name= 'toilet')\n",
    "master_parking_space = pd.Series(master_parking_spaces, name='parking_space')\n",
    "master_price = pd.Series(master_prices, name= 'price')"
   ]
  },
  {
   "cell_type": "code",
   "execution_count": 122,
   "metadata": {},
   "outputs": [],
   "source": [
    "lagos_apartments = pd.DataFrame({'title': master_title,\n",
    "                            'address': master_address,\n",
    "                            'date_added': master_date,\n",
    "                            'bedroom': master_bedroom,\n",
    "                            'bathroom': master_bathroom,\n",
    "                            'toilet': master_toilet,\n",
    "                            'parking_space': master_parking_space,\n",
    "                            'price': master_price})"
   ]
  },
  {
   "cell_type": "code",
   "execution_count": 123,
   "metadata": {},
   "outputs": [],
   "source": [
    "lagos_apartments.to_csv('lagos_apartments_for_rent.csv')"
   ]
  },
  {
   "cell_type": "code",
   "execution_count": null,
   "metadata": {},
   "outputs": [],
   "source": []
  },
  {
   "cell_type": "code",
   "execution_count": null,
   "metadata": {},
   "outputs": [],
   "source": []
  }
 ]
}